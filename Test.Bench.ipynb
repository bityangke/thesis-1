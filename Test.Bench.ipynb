{
 "cells": [
  {
   "cell_type": "code",
   "execution_count": 1,
   "metadata": {},
   "outputs": [],
   "source": [
    "'''THIS NOTEBOOK IS FOR TESTING PYTHON THINGS WITHOUT HAVING TO OPEN A PYTHON CONSOLE IN THE TERMINAL'''"
   ]
  },
  {
   "cell_type": "code",
   "execution_count": 1,
   "metadata": {},
   "outputs": [
    {
     "name": "stderr",
     "output_type": "stream",
     "text": [
      "Using TensorFlow backend.\n"
     ]
    }
   ],
   "source": [
    "import keras as keras\n",
    "import matplotlib"
   ]
  },
  {
   "cell_type": "code",
   "execution_count": 2,
   "metadata": {},
   "outputs": [
    {
     "name": "stdout",
     "output_type": "stream",
     "text": [
      "2.2.2\n",
      "========================================== test session starts ==========================================\n",
      "platform linux -- Python 3.6.6, pytest-3.8.0, py-1.6.0, pluggy-0.7.1\n",
      "rootdir: /home/saniea/thesis, inifile:\n",
      "collected 0 items / 1 errors\n",
      "\n",
      "================================================ ERRORS =================================================\n",
      "___________________________________________ ERROR collecting  ___________________________________________\n",
      "../miniconda2/envs/thesis/lib/python3.6/site-packages/_pytest/config/__init__.py:381: in _getconftestmodules\n",
      "    return self._path2confmods[path]\n",
      "E   KeyError: local('/home/saniea/miniconda2/envs/thesis/lib/python3.6/site-packages/matplotlib/tests/__init__.py')\n",
      "\n",
      "During handling of the above exception, another exception occurred:\n",
      "../miniconda2/envs/thesis/lib/python3.6/site-packages/_pytest/config/__init__.py:381: in _getconftestmodules\n",
      "    return self._path2confmods[path]\n",
      "E   KeyError: local('/home/saniea/miniconda2/envs/thesis/lib/python3.6/site-packages/matplotlib/tests')\n",
      "\n",
      "During handling of the above exception, another exception occurred:\n",
      "../miniconda2/envs/thesis/lib/python3.6/site-packages/_pytest/config/__init__.py:412: in _importconftest\n",
      "    return self._conftestpath2mod[conftestpath]\n",
      "E   KeyError: local('/home/saniea/miniconda2/envs/thesis/lib/python3.6/site-packages/matplotlib/tests/conftest.py')\n",
      "\n",
      "During handling of the above exception, another exception occurred:\n",
      "../miniconda2/envs/thesis/lib/python3.6/site-packages/_pytest/config/__init__.py:418: in _importconftest\n",
      "    mod = conftestpath.pyimport()\n",
      "../miniconda2/envs/thesis/lib/python3.6/site-packages/py/_path/local.py:668: in pyimport\n",
      "    __import__(modname)\n",
      "../miniconda2/envs/thesis/lib/python3.6/site-packages/matplotlib/tests/__init__.py:16: in <module>\n",
      "    'The baseline image directory does not exist. '\n",
      "E   OSError: The baseline image directory does not exist. This is most likely because the test data is not installed. You may need to install matplotlib from source to get the test data.\n",
      "\n",
      "During handling of the above exception, another exception occurred:\n",
      "../miniconda2/envs/thesis/lib/python3.6/site-packages/_pytest/runner.py:201: in __init__\n",
      "    self.result = func()\n",
      "../miniconda2/envs/thesis/lib/python3.6/site-packages/_pytest/runner.py:261: in <lambda>\n",
      "    call = CallInfo(lambda: list(collector.collect()), \"collect\")\n",
      "../miniconda2/envs/thesis/lib/python3.6/site-packages/_pytest/main.py:477: in collect\n",
      "    for x in self._collect(arg):\n",
      "../miniconda2/envs/thesis/lib/python3.6/site-packages/_pytest/main.py:509: in _collect\n",
      "    col = root._collectfile(pkginit)\n",
      "../miniconda2/envs/thesis/lib/python3.6/site-packages/_pytest/python.py:578: in _collectfile\n",
      "    ihook = self.gethookproxy(path)\n",
      "../miniconda2/envs/thesis/lib/python3.6/site-packages/_pytest/python.py:567: in gethookproxy\n",
      "    my_conftestmodules = pm._getconftestmodules(fspath)\n",
      "../miniconda2/envs/thesis/lib/python3.6/site-packages/_pytest/config/__init__.py:384: in _getconftestmodules\n",
      "    clist = self._getconftestmodules(path.dirpath())\n",
      "../miniconda2/envs/thesis/lib/python3.6/site-packages/_pytest/config/__init__.py:395: in _getconftestmodules\n",
      "    mod = self._importconftest(conftestpath)\n",
      "../miniconda2/envs/thesis/lib/python3.6/site-packages/_pytest/config/__init__.py:431: in _importconftest\n",
      "    raise ConftestImportFailure(conftestpath, sys.exc_info())\n",
      "E   _pytest.config.ConftestImportFailure: OSError('The baseline image directory does not exist. This is most likely because the test data is not installed. You may need to install matplotlib from source to get the test data.',)\n",
      "E     File \"/home/saniea/miniconda2/envs/thesis/lib/python3.6/site-packages/matplotlib/tests/__init__.py\", line 16, in <module>\n",
      "E       'The baseline image directory does not exist. '\n",
      "!!!!!!!!!!!!!!!!!!!!!!!!!!!!!!!! Interrupted: 1 errors during collection !!!!!!!!!!!!!!!!!!!!!!!!!!!!!!!!\n",
      "======================================== 1 error in 0.39 seconds ========================================\n"
     ]
    },
    {
     "data": {
      "text/plain": [
       "2"
      ]
     },
     "execution_count": 2,
     "metadata": {},
     "output_type": "execute_result"
    }
   ],
   "source": [
    "print(keras.__version__)\n",
    "matplotlib.test()"
   ]
  },
  {
   "cell_type": "code",
   "execution_count": null,
   "metadata": {},
   "outputs": [],
   "source": []
  }
 ],
 "metadata": {
  "kernelspec": {
   "display_name": "Python 3",
   "language": "python",
   "name": "python3"
  },
  "language_info": {
   "codemirror_mode": {
    "name": "ipython",
    "version": 3
   },
   "file_extension": ".py",
   "mimetype": "text/x-python",
   "name": "python",
   "nbconvert_exporter": "python",
   "pygments_lexer": "ipython3",
   "version": "3.6.6"
  }
 },
 "nbformat": 4,
 "nbformat_minor": 2
}
