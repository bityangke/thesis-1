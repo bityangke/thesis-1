{
 "cells": [
  {
   "cell_type": "code",
   "execution_count": 1,
   "metadata": {},
   "outputs": [
    {
     "name": "stderr",
     "output_type": "stream",
     "text": [
      "Using TensorFlow backend.\n"
     ]
    }
   ],
   "source": [
    "import os\n",
    "import keras\n",
    "import pprint\n",
    "import numpy as np\n",
    "import pickle\n",
    "# import dill as pickle\n",
    "import matplotlib.pyplot as plt\n",
    "from keras import applications\n",
    "from keras import optimizers\n",
    "from keras.preprocessing.image import load_img\n",
    "from keras.preprocessing.image import img_to_array\n",
    "from keras.preprocessing.image import ImageDataGenerator\n",
    "from keras.applications.imagenet_utils import decode_predictions\n",
    "from keras.models import Sequential, Model\n",
    "from keras.layers import Conv2D, MaxPooling2D\n",
    "from keras.layers import Activation, Dropout, Flatten, Dense\n",
    "from keras.utils.np_utils import to_categorical\n",
    "from PIL import Image\n",
    "%matplotlib inline\n",
    "\n",
    "traindir = '/home/saniea/imagedata/cifar10/'\n",
    "valdir = '/home/saniea/imagedata/cifar10/'\n",
    "testdir = '/home/saniea/imagedata/cifar10/'"
   ]
  },
  {
   "cell_type": "code",
   "execution_count": 2,
   "metadata": {},
   "outputs": [],
   "source": [
    "def unpickle(file):\n",
    "    with open(file, 'rb') as fo:\n",
    "        dict = pickle.load(fo, encoding='bytes')\n",
    "    return dict"
   ]
  },
  {
   "cell_type": "code",
   "execution_count": 3,
   "metadata": {},
   "outputs": [
    {
     "name": "stdout",
     "output_type": "stream",
     "text": [
      "(50000, 3072)\n"
     ]
    }
   ],
   "source": [
    "for root, dirs, filenames in os.walk(traindir):\n",
    "    files = filenames\n",
    "# print(files)\n",
    "\n",
    "data = []\n",
    "[data.append(file) for file in files if (file.startswith('data') == True)]\n",
    "data.sort()\n",
    "# print(data)\n",
    "\n",
    "X = np.empty((50000,3072))\n",
    "for i, batch in enumerate (data):\n",
    "    current_batch = unpickle(str(traindir+batch))\n",
    "    batch_data = current_batch[b'data']\n",
    "    j = data.index(batch) + 1 \n",
    "    batch_len = batch_data.shape[0]\n",
    "    X[batch_len*i:batch_len*j] = batch_data\n",
    "    \n",
    "    # i = 0, index = 1 --> 00000 - 10000\n",
    "    # i = 1, index = 2 --> 10000 - 20000\n",
    "    # i = 2, index = 3 --> 20000 - 30000\n",
    "print(X.shape) # all data extracted from files and stored in array X"
   ]
  },
  {
   "cell_type": "code",
   "execution_count": 9,
   "metadata": {},
   "outputs": [
    {
     "name": "stderr",
     "output_type": "stream",
     "text": [
      "Clipping input data to the valid range for imshow with RGB data ([0..1] for floats or [0..255] for integers).\n"
     ]
    },
    {
     "name": "stdout",
     "output_type": "stream",
     "text": [
      "(32, 32, 3)\n"
     ]
    },
    {
     "data": {
      "text/plain": [
       "<matplotlib.image.AxesImage at 0x7febe517eba8>"
      ]
     },
     "execution_count": 9,
     "metadata": {},
     "output_type": "execute_result"
    },
    {
     "data": {
      "image/png": "[encoded data removed]",
      "text/plain": [
       "<Figure size 432x288 with 1 Axes>"
      ]
     },
     "metadata": {},
     "output_type": "display_data"
    }
   ],
   "source": [
    "# print(batch_one.keys())\n",
    "# X = batch_one[b'data']\n",
    "# Y = batch_one[b'labels']\n",
    "# print(X)\n",
    "X = X.reshape(50000, 3, 32, 32)\n",
    "X = X.transpose(0, 2, 3, 1)\n",
    "print(X[6].shape)\n",
    "# print(X[5])\n",
    "plt.imshow(X[6], interpolation='none')\n",
    "# print(Y[25])\n"
   ]
  },
  {
   "cell_type": "code",
   "execution_count": null,
   "metadata": {},
   "outputs": [],
   "source": []
  }
 ],
 "metadata": {
  "kernelspec": {
   "display_name": "Python 3",
   "language": "python",
   "name": "python3"
  },
  "language_info": {
   "codemirror_mode": {
    "name": "ipython",
    "version": 3
   },
   "file_extension": ".py",
   "mimetype": "text/x-python",
   "name": "python",
   "nbconvert_exporter": "python",
   "pygments_lexer": "ipython3",
   "version": "3.6.6"
  }
 },
 "nbformat": 4,
 "nbformat_minor": 2
}
